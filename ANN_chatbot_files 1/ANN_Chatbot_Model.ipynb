{
 "cells": [
  {
   "cell_type": "code",
   "execution_count": 1,
   "id": "c622a163",
   "metadata": {
    "scrolled": true
   },
   "outputs": [],
   "source": [
    "from chatbot_model import *"
   ]
  },
  {
   "cell_type": "code",
   "execution_count": 2,
   "id": "a2a396b5",
   "metadata": {},
   "outputs": [],
   "source": [
    "cModel = chatModel()"
   ]
  },
  {
   "cell_type": "code",
   "execution_count": 3,
   "id": "2919c19e",
   "metadata": {},
   "outputs": [
    {
     "data": {
      "text/plain": [
       "'SpM (0.97712237)'"
      ]
     },
     "execution_count": 3,
     "metadata": {},
     "output_type": "execute_result"
    }
   ],
   "source": [
    "symptoms = [0, 0, 0, 0, 0, 0, 0, 0, 0, 1, 0, 0, 0, 0, 0, 0, 0, 0, 0, 0, 0, 0, 0, 0, 0, 0] # problem with vision\n",
    "\n",
    "# get medical specialty prediction\n",
    "cModel.msSuggest(symptoms)"
   ]
  }
 ],
 "metadata": {
  "kernelspec": {
   "display_name": "Python 3",
   "language": "python",
   "name": "python3"
  },
  "language_info": {
   "codemirror_mode": {
    "name": "ipython",
    "version": 3
   },
   "file_extension": ".py",
   "mimetype": "text/x-python",
   "name": "python",
   "nbconvert_exporter": "python",
   "pygments_lexer": "ipython3",
   "version": "3.6.13"
  }
 },
 "nbformat": 4,
 "nbformat_minor": 5
}
